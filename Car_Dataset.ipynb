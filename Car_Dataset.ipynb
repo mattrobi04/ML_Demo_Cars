{
  "metadata": {
    "kernelspec": {
      "name": "python",
      "display_name": "Python (Pyodide)",
      "language": "python"
    },
    "language_info": {
      "codemirror_mode": {
        "name": "python",
        "version": 3
      },
      "file_extension": ".py",
      "mimetype": "text/x-python",
      "name": "python",
      "nbconvert_exporter": "python",
      "pygments_lexer": "ipython3",
      "version": "3.8"
    }
  },
  "nbformat_minor": 4,
  "nbformat": 4,
  "cells": [
    {
      "cell_type": "code",
      "source": "%pip install seaborn",
      "metadata": {
        "trusted": true
      },
      "outputs": [],
      "execution_count": 61
    },
    {
      "cell_type": "code",
      "source": "import pandas as pd",
      "metadata": {
        "trusted": true
      },
      "outputs": [],
      "execution_count": 62
    },
    {
      "cell_type": "code",
      "source": "data = pd.read_csv('cars_2010_2020.csv')",
      "metadata": {
        "trusted": true
      },
      "outputs": [],
      "execution_count": 63
    },
    {
      "cell_type": "code",
      "source": "data.head(20)",
      "metadata": {
        "trusted": true,
        "tags": [],
        "editable": true,
        "slideshow": {
          "slide_type": ""
        }
      },
      "outputs": [
        {
          "execution_count": 64,
          "output_type": "execute_result",
          "data": {
            "text/plain": "          Make     Model  Year  Engine Size (L) Fuel Type  Price (USD)\n0   Volkswagen     Jetta  2010              4.2    Petrol     54073.09\n1        Honda     Pilot  2017              4.2    Hybrid     44924.91\n2       Nissan    Murano  2011              4.2    Hybrid     76963.44\n3       Toyota      RAV4  2010              2.4    Petrol     30871.25\n4       Nissan    Altima  2010              3.6    Petrol     72037.65\n5         Ford     Focus  2011              2.6    Petrol     64616.84\n6         Ford  Explorer  2016              2.0    Petrol     39159.35\n7          BMW  7 Series  2018              4.0    Diesel     21455.06\n8      Hyundai      Kona  2017              2.0  Electric     44998.91\n9    Chevrolet    Impala  2016              1.6    Petrol     59598.11\n10         BMW  3 Series  2013              2.9  Electric     58034.53\n11      Nissan    Sentra  2019              4.6    Diesel     60734.86\n12       Honda     Pilot  2014              1.2    Hybrid     65585.78\n13   Chevrolet    Impala  2016              2.6  Electric     19645.80\n14      Toyota   Corolla  2015              2.4    Petrol     41643.48\n15   Chevrolet    Malibu  2017              4.5    Diesel     41910.60\n16  Volkswagen    Tiguan  2019              1.4    Hybrid     63094.04\n17         BMW  3 Series  2020              4.9    Hybrid     16680.51\n18      Toyota     Camry  2018              1.7    Petrol     70906.11\n19        Ford     Focus  2016              2.3    Petrol     56343.74",
            "text/html": "<div>\n<style scoped>\n    .dataframe tbody tr th:only-of-type {\n        vertical-align: middle;\n    }\n\n    .dataframe tbody tr th {\n        vertical-align: top;\n    }\n\n    .dataframe thead th {\n        text-align: right;\n    }\n</style>\n<table border=\"1\" class=\"dataframe\">\n  <thead>\n    <tr style=\"text-align: right;\">\n      <th></th>\n      <th>Make</th>\n      <th>Model</th>\n      <th>Year</th>\n      <th>Engine Size (L)</th>\n      <th>Fuel Type</th>\n      <th>Price (USD)</th>\n    </tr>\n  </thead>\n  <tbody>\n    <tr>\n      <th>0</th>\n      <td>Volkswagen</td>\n      <td>Jetta</td>\n      <td>2010</td>\n      <td>4.2</td>\n      <td>Petrol</td>\n      <td>54073.09</td>\n    </tr>\n    <tr>\n      <th>1</th>\n      <td>Honda</td>\n      <td>Pilot</td>\n      <td>2017</td>\n      <td>4.2</td>\n      <td>Hybrid</td>\n      <td>44924.91</td>\n    </tr>\n    <tr>\n      <th>2</th>\n      <td>Nissan</td>\n      <td>Murano</td>\n      <td>2011</td>\n      <td>4.2</td>\n      <td>Hybrid</td>\n      <td>76963.44</td>\n    </tr>\n    <tr>\n      <th>3</th>\n      <td>Toyota</td>\n      <td>RAV4</td>\n      <td>2010</td>\n      <td>2.4</td>\n      <td>Petrol</td>\n      <td>30871.25</td>\n    </tr>\n    <tr>\n      <th>4</th>\n      <td>Nissan</td>\n      <td>Altima</td>\n      <td>2010</td>\n      <td>3.6</td>\n      <td>Petrol</td>\n      <td>72037.65</td>\n    </tr>\n    <tr>\n      <th>5</th>\n      <td>Ford</td>\n      <td>Focus</td>\n      <td>2011</td>\n      <td>2.6</td>\n      <td>Petrol</td>\n      <td>64616.84</td>\n    </tr>\n    <tr>\n      <th>6</th>\n      <td>Ford</td>\n      <td>Explorer</td>\n      <td>2016</td>\n      <td>2.0</td>\n      <td>Petrol</td>\n      <td>39159.35</td>\n    </tr>\n    <tr>\n      <th>7</th>\n      <td>BMW</td>\n      <td>7 Series</td>\n      <td>2018</td>\n      <td>4.0</td>\n      <td>Diesel</td>\n      <td>21455.06</td>\n    </tr>\n    <tr>\n      <th>8</th>\n      <td>Hyundai</td>\n      <td>Kona</td>\n      <td>2017</td>\n      <td>2.0</td>\n      <td>Electric</td>\n      <td>44998.91</td>\n    </tr>\n    <tr>\n      <th>9</th>\n      <td>Chevrolet</td>\n      <td>Impala</td>\n      <td>2016</td>\n      <td>1.6</td>\n      <td>Petrol</td>\n      <td>59598.11</td>\n    </tr>\n    <tr>\n      <th>10</th>\n      <td>BMW</td>\n      <td>3 Series</td>\n      <td>2013</td>\n      <td>2.9</td>\n      <td>Electric</td>\n      <td>58034.53</td>\n    </tr>\n    <tr>\n      <th>11</th>\n      <td>Nissan</td>\n      <td>Sentra</td>\n      <td>2019</td>\n      <td>4.6</td>\n      <td>Diesel</td>\n      <td>60734.86</td>\n    </tr>\n    <tr>\n      <th>12</th>\n      <td>Honda</td>\n      <td>Pilot</td>\n      <td>2014</td>\n      <td>1.2</td>\n      <td>Hybrid</td>\n      <td>65585.78</td>\n    </tr>\n    <tr>\n      <th>13</th>\n      <td>Chevrolet</td>\n      <td>Impala</td>\n      <td>2016</td>\n      <td>2.6</td>\n      <td>Electric</td>\n      <td>19645.80</td>\n    </tr>\n    <tr>\n      <th>14</th>\n      <td>Toyota</td>\n      <td>Corolla</td>\n      <td>2015</td>\n      <td>2.4</td>\n      <td>Petrol</td>\n      <td>41643.48</td>\n    </tr>\n    <tr>\n      <th>15</th>\n      <td>Chevrolet</td>\n      <td>Malibu</td>\n      <td>2017</td>\n      <td>4.5</td>\n      <td>Diesel</td>\n      <td>41910.60</td>\n    </tr>\n    <tr>\n      <th>16</th>\n      <td>Volkswagen</td>\n      <td>Tiguan</td>\n      <td>2019</td>\n      <td>1.4</td>\n      <td>Hybrid</td>\n      <td>63094.04</td>\n    </tr>\n    <tr>\n      <th>17</th>\n      <td>BMW</td>\n      <td>3 Series</td>\n      <td>2020</td>\n      <td>4.9</td>\n      <td>Hybrid</td>\n      <td>16680.51</td>\n    </tr>\n    <tr>\n      <th>18</th>\n      <td>Toyota</td>\n      <td>Camry</td>\n      <td>2018</td>\n      <td>1.7</td>\n      <td>Petrol</td>\n      <td>70906.11</td>\n    </tr>\n    <tr>\n      <th>19</th>\n      <td>Ford</td>\n      <td>Focus</td>\n      <td>2016</td>\n      <td>2.3</td>\n      <td>Petrol</td>\n      <td>56343.74</td>\n    </tr>\n  </tbody>\n</table>\n</div>"
          },
          "metadata": {}
        }
      ],
      "execution_count": 64
    },
    {
      "cell_type": "code",
      "source": "data.isnull().sum()",
      "metadata": {
        "trusted": true
      },
      "outputs": [
        {
          "execution_count": 65,
          "output_type": "execute_result",
          "data": {
            "text/plain": "Make               0\nModel              0\nYear               0\nEngine Size (L)    0\nFuel Type          0\nPrice (USD)        0\ndtype: int64"
          },
          "metadata": {}
        }
      ],
      "execution_count": 65
    },
    {
      "cell_type": "code",
      "source": "import seaborn as sns\nnumeric_data = data.select_dtypes(include=[float, int])\ncorr = numeric_data.corr()\n\n# Generate the heatmap\nsns.heatmap(corr, cmap=\"YlGnBu\", annot=True)\n",
      "metadata": {
        "trusted": true
      },
      "outputs": [
        {
          "execution_count": 66,
          "output_type": "execute_result",
          "data": {
            "text/plain": "<AxesSubplot:>"
          },
          "metadata": {}
        },
        {
          "output_type": "display_data",
          "data": {
            "text/plain": "<Figure size 640x480 with 2 Axes>",
            "image/png": "[encoded data removed]"
          },
          "metadata": {}
        }
      ],
      "execution_count": 66
    },
    {
      "cell_type": "code",
      "source": "Y = data.iloc[:, :1]\nX = data.iloc[:, 1:]",
      "metadata": {
        "trusted": true
      },
      "outputs": [],
      "execution_count": 67
    },
    {
      "cell_type": "code",
      "source": "X = pd.get_dummies(X)",
      "metadata": {
        "trusted": true
      },
      "outputs": [],
      "execution_count": 68
    },
    {
      "cell_type": "code",
      "source": "from sklearn.model_selection import train_test_split\nX_train, X_test, Y_train, Y_test = train_test_split(X, Y, test_size=0.3, random_state=42)\n\nprint(X_train.shape)\nprint(X_test.shape)",
      "metadata": {
        "trusted": true
      },
      "outputs": [
        {
          "name": "stdout",
          "text": "(7000, 57)\n(3000, 57)\n",
          "output_type": "stream"
        }
      ],
      "execution_count": 69
    },
    {
      "cell_type": "code",
      "source": "from sklearn.naive_bayes import GaussianNB\n# Initialize the Gaussian Naive Bayes classifier\ngnb = GaussianNB()\n# Train the model\ngnb.fit(X_train, Y_train)\n#Test the Model\nfrom sklearn.metrics import accuracy_score\n# Predict the labels for the test set\ny_pred = gnb.predict(X_train)\n# Calculate the accuracy\naccuracy = accuracy_score(Y_train, y_pred)\nprint('Gaussian Naive Bayes Classifier')\nprint('Training Accuracy: ', accuracy)\nprint('Testing Accuracy: ' , accuracy_score(Y_test, gnb.predict(X_test)))",
      "metadata": {
        "trusted": true
      },
      "outputs": [
        {
          "name": "stderr",
          "text": "/lib/python3.12/site-packages/sklearn/utils/validation.py:1300: DataConversionWarning: A column-vector y was passed when a 1d array was expected. Please change the shape of y to (n_samples, ), for example using ravel().\n  y = column_or_1d(y, warn=True)\n",
          "output_type": "stream"
        },
        {
          "name": "stdout",
          "text": "Gaussian Naive Bayes Classifier\nTraining Accuracy:  1.0\nTesting Accuracy:  1.0\n",
          "output_type": "stream"
        }
      ],
      "execution_count": 57
    },
    {
      "cell_type": "code",
      "source": "from sklearn.neighbors import KNeighborsClassifier\nknn = KNeighborsClassifier(n_neighbors=7)\nknn.fit(X_train, Y_train)\n# Test the Model\nprint('K-Nearest Neighbors Classifier')\nprint('Training Accuracy: ', accuracy_score(Y_train, knn.predict(X_train)))\nprint('Testing Accuracy: ' , accuracy_score(Y_test, knn.predict(X_test)))",
      "metadata": {
        "trusted": true
      },
      "outputs": [
        {
          "name": "stderr",
          "text": "/lib/python3.12/site-packages/sklearn/neighbors/_classification.py:238: DataConversionWarning: A column-vector y was passed when a 1d array was expected. Please change the shape of y to (n_samples,), for example using ravel().\n  return self._fit(X, y)\n",
          "output_type": "stream"
        },
        {
          "name": "stdout",
          "text": "K-Nearest Neighbors Classifier\nTraining Accuracy:  0.3221428571428571\nTesting Accuracy:  0.106\n",
          "output_type": "stream"
        }
      ],
      "execution_count": 60
    },
    {
      "cell_type": "code",
      "source": "from sklearn.tree import DecisionTreeClassifier\ndt = DecisionTreeClassifier()\ndt.fit(X_train, Y_train)\n# Test the Model\nprint('Decision Tree Classifier')\nprint('Training Accuracy: ', accuracy_score(Y_train, dt.predict(X_train)))\nprint('Testing Accuracy: ' , accuracy_score(Y_test, dt.predict(X_test)))",
      "metadata": {
        "trusted": true
      },
      "outputs": [
        {
          "name": "stdout",
          "text": "Decision Tree Classifier\nTraining Accuracy:  1.0\nTesting Accuracy:  1.0\n",
          "output_type": "stream"
        }
      ],
      "execution_count": 59
    },
    {
      "cell_type": "code",
      "source": "",
      "metadata": {
        "trusted": true
      },
      "outputs": [],
      "execution_count": null
    }
  ]
}